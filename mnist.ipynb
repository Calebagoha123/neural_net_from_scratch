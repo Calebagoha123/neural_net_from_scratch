{
 "cells": [
  {
   "cell_type": "code",
   "execution_count": 1,
   "metadata": {},
   "outputs": [],
   "source": [
    "#import required packages\n",
    "import numpy as np\n",
    "import random\n",
    "import matplotlib.pyplot as plt\n",
    "import gzip\n",
    "import pickle"
   ]
  },
  {
   "cell_type": "code",
   "execution_count": 2,
   "metadata": {},
   "outputs": [],
   "source": [
    "# Activation funciton\n",
    "def sigmoid(z):\n",
    "    return 1.0/(1 + np.exp(-z))\n",
    "\n",
    "def sigmoid_prime(z):\n",
    "    return sigmoid(z) * (1 - sigmoid(z))"
   ]
  },
  {
   "cell_type": "code",
   "execution_count": 3,
   "metadata": {},
   "outputs": [],
   "source": [
    "#Cost function\n",
    "class CrossEntropyCost(object):\n",
    "    @staticmethod\n",
    "    def fn(a, y):\n",
    "        \"\"\"Return the cross entropy cost function\"\"\"\n",
    "        return np.sum(np.nan_to_num(-y*np.log(a) - (1-y)*np.log(1-a)))\n",
    "    \n",
    "    def delta(z, a, y):\n",
    "        \"\"\"Return the error from the output layer\"\"\"\n",
    "        return (a-y)"
   ]
  },
  {
   "cell_type": "code",
   "execution_count": 4,
   "metadata": {},
   "outputs": [],
   "source": [
    "class Network(object):\n",
    "    \"\"\"A neural network class\"\"\"\n",
    "    \n",
    "    def __init__(self, sizes, cost=CrossEntropyCost):\n",
    "        self.num_layers = len(sizes)\n",
    "        self.sizes = sizes\n",
    "        self.biases = [np.random.randn(y, 1) for y in sizes[1:]]\n",
    "        self.weights = [np.random.randn(y, x) for x, y in zip(sizes[:-1], sizes[1:])]\n",
    "        self.cost = cost\n",
    "    \n",
    "    def feedforward(self, a):\n",
    "        \"\"\"Return the output of the network if 'a' is an input\"\"\"\n",
    "        \n",
    "        for b, w in zip(self.biases, self.weights):\n",
    "            a = sigmoid(np.dot(w, a) + b)\n",
    "        return a\n",
    "    \n",
    "    def SGD(self, training_data, epochs, mini_batch_size, eta, test_data=None):\n",
    "        \"\"\"Train neural network using mini-batch stochastic gradient descent.\n",
    "        The 'training_data' is a list of tuples '(x, y)' representing the training inputs\n",
    "        and the desired outputs. If 'test_data' is provided then the network will be evaluated\n",
    "        against the test data after each epoch, and partial progress printed out.\"\"\"\n",
    "       \n",
    "        if test_data:\n",
    "            n_test = len(test_data)   \n",
    "        n = len(training_data)\n",
    "        self.accuracy = []\n",
    "        for j in range(epochs):\n",
    "            random.shuffle(training_data)\n",
    "            mini_batches = [training_data[k:k+mini_batch_size] for k in range(0, n, mini_batch_size)]\n",
    "            for mini_batch in mini_batches:\n",
    "                self.update_mini_batch(mini_batch, eta)\n",
    "            if test_data:\n",
    "                self.accuracy.append(self.evaluate(test_data)/n_test)\n",
    "                print(f\"Epoch {j}: {self.evaluate(test_data)}/{n_test}\")\n",
    "            else:\n",
    "                print(f\"Epoch {j} complete\")\n",
    "        \n",
    "                \n",
    "    def update_mini_batch(self, mini_batch, eta):\n",
    "        \"\"\"update network's weights and biases by applying gradient descent using backpropagation\n",
    "        to a single minibatch.\"\"\"\n",
    "        X = np.column_stack([x for x, y in mini_batch])\n",
    "        Y = np.column_stack([y for x, y in mini_batch])\n",
    "        \n",
    "        nabla_b = [np.zeros(b.shape) for b in self.biases]\n",
    "        nabla_w = [np.zeros(w.shape) for w in self.weights]\n",
    "        \n",
    "        #feedforward\n",
    "        activation = X\n",
    "        activations =[X]\n",
    "        zs = []\n",
    "        for b, w in zip(self.biases, self.weights):\n",
    "            z = np.dot(w, activation) + b\n",
    "            zs.append(z)\n",
    "            activation = sigmoid(z)\n",
    "            activations.append(activation)\n",
    "            \n",
    "        #backward pass\n",
    "        delta = (self.cost).delta(zs[-1], activations[-1], Y)\n",
    "        nabla_b[-1] = np.sum(delta, axis=1, keepdims=True)\n",
    "        nabla_w[-1] = np.dot(delta, activations[-2].transpose())\n",
    "        \n",
    "        for l in range(2, self.num_layers):\n",
    "            z = zs[-l]\n",
    "            sp = sigmoid_prime(z)\n",
    "            delta = np.dot(self.weights[-l+1].transpose(), delta) * sp\n",
    "            nabla_b[-l] = np.sum(delta, axis=1, keepdims=True)\n",
    "            nabla_w[-l] = np.dot(delta, activations[-l-1].transpose())\n",
    "    \n",
    "        self.weights = [w - (eta/len(mini_batch)) * nw for w, nw in zip(self.weights, nabla_w)]\n",
    "        self.biases = [b - (eta/len(mini_batch)) * nb for b, nb in zip(self.biases, nabla_b)]\n",
    "    \n",
    "    def evaluate(self, test_data):\n",
    "        \"\"\"Return the number of test inputs for which the neural\n",
    "        network outputs the correct result. Note that the neural\n",
    "        network's output is assumed to be the index of whichever\n",
    "        neuron in the final layer has the highest activation.\"\"\"\n",
    "        test_results = [(np.argmax(self.feedforward(x)), y) for (x, y) in test_data]\n",
    "        return sum(int(x == y) for (x, y) in test_results)"
   ]
  },
  {
   "cell_type": "code",
   "execution_count": 5,
   "metadata": {},
   "outputs": [],
   "source": [
    "# Function to load the MNIST dataset\n",
    "def load_data():\n",
    "    with gzip.open('mnist.pkl.gz', 'rb') as f:\n",
    "        training_data, validation_data, test_data = pickle.load(f, encoding='latin1')\n",
    "    return training_data, validation_data, test_data\n",
    "\n",
    "# Function to preprocess the data\n",
    "def preprocess_data(training_data, validation_data, test_data):\n",
    "    training_inputs = [np.reshape(x, (784, 1)) for x in training_data[0]]\n",
    "    training_results = [vectorized_result(y) for y in training_data[1]]\n",
    "    training_data = list(zip(training_inputs, training_results))\n",
    "    \n",
    "    validation_inputs = [np.reshape(x, (784, 1)) for x in validation_data[0]]\n",
    "    validation_data = list(zip(validation_inputs, validation_data[1]))\n",
    "    \n",
    "    test_inputs = [np.reshape(x, (784, 1)) for x in test_data[0]]\n",
    "    test_data = list(zip(test_inputs, test_data[1]))\n",
    "    \n",
    "    return training_data, validation_data, test_data\n",
    "\n",
    "# Helper function to convert digit (0-9) into a 10-dimensional unit vector\n",
    "def vectorized_result(j):\n",
    "    e = np.zeros((10, 1))\n",
    "    e[j] = 1.0\n",
    "    return e\n",
    "\n",
    "# Load and preprocess the data\n",
    "training_data, validation_data, test_data = load_data()\n",
    "training_data, validation_data, test_data = preprocess_data(training_data, validation_data, test_data)"
   ]
  },
  {
   "cell_type": "code",
   "execution_count": 6,
   "metadata": {},
   "outputs": [
    {
     "name": "stdout",
     "output_type": "stream",
     "text": [
      "Epoch 0: 9351/10000\n",
      "Epoch 1: 9412/10000\n",
      "Epoch 2: 9508/10000\n",
      "Epoch 3: 9576/10000\n",
      "Epoch 4: 9557/10000\n",
      "Epoch 5: 9609/10000\n",
      "Epoch 6: 9604/10000\n",
      "Epoch 7: 9609/10000\n",
      "Epoch 8: 9609/10000\n",
      "Epoch 9: 9649/10000\n",
      "Epoch 10: 9658/10000\n",
      "Epoch 11: 9656/10000\n",
      "Epoch 12: 9648/10000\n",
      "Epoch 13: 9673/10000\n",
      "Epoch 14: 9624/10000\n",
      "Epoch 15: 9651/10000\n",
      "Epoch 16: 9655/10000\n",
      "Epoch 17: 9663/10000\n",
      "Epoch 18: 9660/10000\n",
      "Epoch 19: 9662/10000\n",
      "Epoch 20: 9670/10000\n",
      "Epoch 21: 9644/10000\n",
      "Epoch 22: 9676/10000\n",
      "Epoch 23: 9661/10000\n",
      "Epoch 24: 9669/10000\n",
      "Epoch 25: 9664/10000\n",
      "Epoch 26: 9672/10000\n",
      "Epoch 27: 9662/10000\n",
      "Epoch 28: 9670/10000\n",
      "Epoch 29: 9679/10000\n"
     ]
    }
   ],
   "source": [
    "# training the neural network\n",
    "net = Network([784, 100, 10])\n",
    "net.SGD(training_data, 30, 10, 0.5, test_data=test_data)"
   ]
  },
  {
   "cell_type": "code",
   "execution_count": 7,
   "metadata": {},
   "outputs": [
    {
     "data": {
      "image/png": "[encoded data removed]",
      "text/plain": [
       "<Figure size 640x480 with 1 Axes>"
      ]
     },
     "metadata": {},
     "output_type": "display_data"
    }
   ],
   "source": [
    "#results\n",
    "plt.plot(net.accuracy)\n",
    "plt.xlabel('Epochs')\n",
    "plt.ylabel('Accuracy')\n",
    "plt.title('Model accurcay over epochs')\n",
    "plt.show()"
   ]
  }
 ],
 "metadata": {
  "kernelspec": {
   "display_name": "Python 3",
   "language": "python",
   "name": "python3"
  },
  "language_info": {
   "codemirror_mode": {
    "name": "ipython",
    "version": 3
   },
   "file_extension": ".py",
   "mimetype": "text/x-python",
   "name": "python",
   "nbconvert_exporter": "python",
   "pygments_lexer": "ipython3",
   "version": "3.9.6"
  }
 },
 "nbformat": 4,
 "nbformat_minor": 2
}
